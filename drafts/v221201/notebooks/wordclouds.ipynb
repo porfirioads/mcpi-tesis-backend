{
 "cells": [
  {
   "cell_type": "markdown",
   "id": "d53e1e0b-5534-4854-ba2e-295db745a535",
   "metadata": {},
   "source": [
    "# WORDCLOUDS"
   ]
  },
  {
   "attachments": {},
   "cell_type": "markdown",
   "id": "e5a527cd",
   "metadata": {},
   "source": [
    "## Metrics using all data"
   ]
  },
  {
   "attachments": {},
   "cell_type": "markdown",
   "id": "44fa7e2b",
   "metadata": {},
   "source": [
    "### Pretrained"
   ]
  },
  {
   "cell_type": "code",
   "execution_count": 10,
   "id": "73d9a693-297e-4f6f-8031-2b0eaf9130af",
   "metadata": {},
   "outputs": [
    {
     "data": {
      "text/plain": [
       "{'vader': {'accuracy': 0.4782608695652174,\n",
       "  'sensitivity': 0.5483870967741935,\n",
       "  'specificity': 0.3333333333333333,\n",
       "  'kappa': -0.11066398390342047,\n",
       "  'f1': 0.5862068965517241,\n",
       "  'precision': 0.6296296296296297,\n",
       "  'tp': 34,\n",
       "  'fp': 28,\n",
       "  'tn': 10,\n",
       "  'fn': 20},\n",
       " 'textblob': {'accuracy': 0.5,\n",
       "  'sensitivity': 0.5645161290322581,\n",
       "  'specificity': 0.36666666666666664,\n",
       "  'kappa': -0.06438631790744465,\n",
       "  'f1': 0.603448275862069,\n",
       "  'precision': 0.6481481481481481,\n",
       "  'tp': 35,\n",
       "  'fp': 27,\n",
       "  'tn': 11,\n",
       "  'fn': 19},\n",
       " 'naive_bayes': {'accuracy': 0.4782608695652174,\n",
       "  'sensitivity': 0.5967741935483871,\n",
       "  'specificity': 0.23333333333333334,\n",
       "  'kappa': -0.16701902748414388,\n",
       "  'f1': 0.6065573770491804,\n",
       "  'precision': 0.6166666666666667,\n",
       "  'tp': 37,\n",
       "  'fp': 25,\n",
       "  'tn': 7,\n",
       "  'fn': 23},\n",
       " 'max_voting': {'accuracy': 0.4673913043478261,\n",
       "  'sensitivity': 0.5483870967741935,\n",
       "  'specificity': 0.3,\n",
       "  'kappa': -0.14300202839756593,\n",
       "  'f1': 0.5811965811965812,\n",
       "  'precision': 0.6181818181818182,\n",
       "  'tp': 34,\n",
       "  'fp': 28,\n",
       "  'tn': 9,\n",
       "  'fn': 21}}"
      ]
     },
     "execution_count": 10,
     "metadata": {},
     "output_type": "execute_result"
    }
   ],
   "source": [
    "import requests\n",
    "\n",
    "url = \"http://localhost:8000/analysis/metrics_pretrained?file_path=pre_all_cle_respuestas_form_1671341451_1671381775_1671397668.csv\"\n",
    "\n",
    "payload={}\n",
    "headers = {}\n",
    "\n",
    "response = requests.request(\"POST\", url, headers=headers, data=payload)\n",
    "\n",
    "response.json()"
   ]
  },
  {
   "attachments": {},
   "cell_type": "markdown",
   "id": "87ad2095-b3bf-4e09-bf4c-628e38a8f627",
   "metadata": {},
   "source": [
    "### Trained"
   ]
  },
  {
   "cell_type": "code",
   "execution_count": 11,
   "id": "29968255",
   "metadata": {},
   "outputs": [
    {
     "data": {
      "text/plain": [
       "{'decision_tree': {'accuracy': 0.9130434782608695,\n",
       "  'sensitivity': 0.967741935483871,\n",
       "  'specificity': 0.8,\n",
       "  'kappa': 0.7951002227171492,\n",
       "  'f1': 0.9374999999999999,\n",
       "  'precision': 0.9090909090909091,\n",
       "  'tp': 60,\n",
       "  'fp': 2,\n",
       "  'tn': 24,\n",
       "  'fn': 6},\n",
       " 'max_entrophy': {'accuracy': 0.9021739130434783,\n",
       "  'sensitivity': 0.9516129032258065,\n",
       "  'specificity': 0.8,\n",
       "  'kappa': 0.7715231788079471,\n",
       "  'f1': 0.9291338582677167,\n",
       "  'precision': 0.9076923076923077,\n",
       "  'tp': 59,\n",
       "  'fp': 3,\n",
       "  'tn': 24,\n",
       "  'fn': 6},\n",
       " 'naive_bayes': {'accuracy': 0.9239130434782609,\n",
       "  'sensitivity': 1.0,\n",
       "  'specificity': 0.7666666666666667,\n",
       "  'kappa': 0.8157894736842105,\n",
       "  'f1': 0.9465648854961832,\n",
       "  'precision': 0.8985507246376812,\n",
       "  'tp': 62,\n",
       "  'fp': 0,\n",
       "  'tn': 23,\n",
       "  'fn': 7},\n",
       " 'max_voting': {'accuracy': 0.9347826086956522,\n",
       "  'sensitivity': 1.0,\n",
       "  'specificity': 0.8,\n",
       "  'kappa': 0.8435374149659864,\n",
       "  'f1': 0.9538461538461539,\n",
       "  'precision': 0.9117647058823529,\n",
       "  'tp': 62,\n",
       "  'fp': 0,\n",
       "  'tn': 24,\n",
       "  'fn': 6}}"
      ]
     },
     "execution_count": 11,
     "metadata": {},
     "output_type": "execute_result"
    }
   ],
   "source": [
    "import requests\n",
    "\n",
    "url = \"http://localhost:8000/analysis/metrics_trained?file_path=tra_all_cle_respuestas_form_1671341451_1671381775_1671382061.csv\"\n",
    "\n",
    "payload={}\n",
    "headers = {}\n",
    "\n",
    "response = requests.request(\"POST\", url, headers=headers, data=payload)\n",
    "\n",
    "response.json()"
   ]
  },
  {
   "attachments": {},
   "cell_type": "markdown",
   "id": "5787181a",
   "metadata": {},
   "source": [
    "### Trained balanced"
   ]
  },
  {
   "cell_type": "code",
   "execution_count": 12,
   "id": "8ed5c7b2",
   "metadata": {},
   "outputs": [
    {
     "data": {
      "text/plain": [
       "{'decision_tree': {'accuracy': 0.9344262295081968,\n",
       "  'sensitivity': 0.9032258064516129,\n",
       "  'specificity': 0.9666666666666667,\n",
       "  'kappa': 0.8689581095596133,\n",
       "  'f1': 0.9333333333333333,\n",
       "  'precision': 0.9655172413793104,\n",
       "  'tp': 56,\n",
       "  'fp': 6,\n",
       "  'tn': 58,\n",
       "  'fn': 2},\n",
       " 'max_entrophy': {'accuracy': 0.9344262295081968,\n",
       "  'sensitivity': 0.9032258064516129,\n",
       "  'specificity': 0.9666666666666667,\n",
       "  'kappa': 0.8689581095596133,\n",
       "  'f1': 0.9333333333333333,\n",
       "  'precision': 0.9655172413793104,\n",
       "  'tp': 56,\n",
       "  'fp': 6,\n",
       "  'tn': 58,\n",
       "  'fn': 2},\n",
       " 'naive_bayes': {'accuracy': 0.9344262295081968,\n",
       "  'sensitivity': 0.9193548387096774,\n",
       "  'specificity': 0.95,\n",
       "  'kappa': 0.8688876947877485,\n",
       "  'f1': 0.9344262295081968,\n",
       "  'precision': 0.95,\n",
       "  'tp': 57,\n",
       "  'fp': 5,\n",
       "  'tn': 57,\n",
       "  'fn': 3},\n",
       " 'max_voting': {'accuracy': 0.9344262295081968,\n",
       "  'sensitivity': 0.9032258064516129,\n",
       "  'specificity': 0.9666666666666667,\n",
       "  'kappa': 0.8689581095596133,\n",
       "  'f1': 0.9333333333333333,\n",
       "  'precision': 0.9655172413793104,\n",
       "  'tp': 56,\n",
       "  'fp': 6,\n",
       "  'tn': 58,\n",
       "  'fn': 2}}"
      ]
     },
     "execution_count": 12,
     "metadata": {},
     "output_type": "execute_result"
    }
   ],
   "source": [
    "import requests\n",
    "\n",
    "url = \"http://localhost:8000/analysis/metrics_trained?file_path=tra_all_bal_cle_respuestas_form_1671341451_1671381775_1671381830_1671386842.csv\"\n",
    "\n",
    "payload={}\n",
    "headers = {}\n",
    "\n",
    "response = requests.request(\"POST\", url, headers=headers, data=payload)\n",
    "\n",
    "response.json()"
   ]
  }
 ],
 "metadata": {
  "kernelspec": {
   "display_name": "Python 3.8.9 ('mcpi-tesis-backend-lmykv_dJ')",
   "language": "python",
   "name": "python3"
  },
  "language_info": {
   "codemirror_mode": {
    "name": "ipython",
    "version": 3
   },
   "file_extension": ".py",
   "mimetype": "text/x-python",
   "name": "python",
   "nbconvert_exporter": "python",
   "pygments_lexer": "ipython3",
   "version": "3.8.9 (default, Apr 13 2022, 08:48:06) \n[Clang 13.1.6 (clang-1316.0.21.2.5)]"
  },
  "vscode": {
   "interpreter": {
    "hash": "c640a4effa3fe312cf192de038d9d5a462eb83ef78138ee9e1e2e524204db4bc"
   }
  }
 },
 "nbformat": 4,
 "nbformat_minor": 5
}
