{
 "cells": [
  {
   "cell_type": "markdown",
   "id": "873059bd",
   "metadata": {},
   "source": [
    "# Análisis de sentimientos con dataset personalizado"
   ]
  },
  {
   "cell_type": "markdown",
   "id": "401d6cfd",
   "metadata": {},
   "source": [
    "## Lectura del dataset"
   ]
  },
  {
   "cell_type": "code",
   "execution_count": 2,
   "id": "63f9ebba",
   "metadata": {},
   "outputs": [],
   "source": [
    "import pandas as pd\n",
    "\n",
    "df = pd.read_csv(r'sample-tucson-separado.csv', encoding='latin-1')"
   ]
  },
  {
   "cell_type": "code",
   "execution_count": 3,
   "id": "b4a80983",
   "metadata": {
    "scrolled": true
   },
   "outputs": [
    {
     "data": {
      "text/plain": [
       "array(['pos', 'neg'], dtype=object)"
      ]
     },
     "execution_count": 3,
     "metadata": {},
     "output_type": "execute_result"
    }
   ],
   "source": [
    "# Crea una copia del dataset eliminando las respuestas clasificadas como \n",
    "# neutrales y reemplazando las etiquetas de los sentimientos a las esperadas\n",
    "# por la librería textblob.\n",
    "df2 = df.copy()\n",
    "df2 = df2[['Answer', 'Sentiment']]\n",
    "df2.drop(df2[df2['Sentiment'] == 'Neutral'].index, inplace=True)\n",
    "df2['Sentiment'] = df2['Sentiment'].replace({'Positive': 'pos', 'Neutral': 'neu', 'Negative': 'neg'})\n",
    "df2['Sentiment'].unique()"
   ]
  },
  {
   "cell_type": "markdown",
   "id": "5fbd6b35",
   "metadata": {},
   "source": [
    "## Creación de datos de entrenamiento y de prueba"
   ]
  },
  {
   "cell_type": "code",
   "execution_count": 4,
   "id": "b8ffee7b",
   "metadata": {},
   "outputs": [],
   "source": [
    "from sklearn.model_selection import train_test_split\n",
    "\n",
    "\n",
    "y = df2['Sentiment']\n",
    "X_train, X_test, y_train, y_test = train_test_split(df2, y, test_size=0.25, random_state=25)"
   ]
  },
  {
   "cell_type": "markdown",
   "id": "21ffd761",
   "metadata": {},
   "source": [
    "## Análisis de datos"
   ]
  },
  {
   "cell_type": "code",
   "execution_count": 37,
   "id": "3ca4ccb9",
   "metadata": {},
   "outputs": [
    {
     "data": {
      "text/plain": [
       "0.45454545454545453"
      ]
     },
     "execution_count": 37,
     "metadata": {},
     "output_type": "execute_result"
    }
   ],
   "source": [
    "from textblob.classifiers import DecisionTreeClassifier\n",
    "\n",
    "\n",
    "cl1 = DecisionTreeClassifier(X_train.values)\n",
    "cl1.accuracy(X_test.values)"
   ]
  },
  {
   "cell_type": "code",
   "execution_count": 6,
   "id": "4c498374",
   "metadata": {},
   "outputs": [
    {
     "name": "stdout",
     "output_type": "stream",
     "text": [
      "  ==> Training (100 iterations)\n",
      "\n",
      "      Iteration    Log Likelihood    Accuracy\n",
      "      ---------------------------------------\n",
      "             1          -0.69315        0.636\n",
      "             2          -0.05046        1.000\n",
      "             3          -0.00956        1.000\n",
      "             4          -0.00251        1.000\n",
      "             5          -0.00077        1.000\n",
      "             6          -0.00026        1.000\n",
      "             7          -0.00009        1.000\n",
      "             8          -0.00004        1.000\n",
      "             9          -0.00001        1.000\n",
      "            10          -0.00001        1.000\n",
      "            11          -0.00000        1.000\n",
      "            12          -0.00000        1.000\n",
      "            13          -0.00000        1.000\n",
      "            14          -0.00000        1.000\n",
      "            15          -0.00000        1.000\n",
      "            16          -0.00000        1.000\n",
      "            17          -0.00000        1.000\n",
      "            18          -0.00000        1.000\n",
      "            19          -0.00000        1.000\n",
      "            20          -0.00000        1.000\n",
      "            21          -0.00000        1.000\n",
      "            22          -0.00000        1.000\n",
      "            23          -0.00000        1.000\n",
      "            24          -0.00000        1.000\n",
      "            25          -0.00000        1.000\n",
      "            26          -0.00000        1.000\n",
      "            27          -0.00000        1.000\n",
      "            28          -0.00000        1.000\n",
      "            29          -0.00000        1.000\n",
      "            30          -0.00000        1.000\n",
      "            31          -0.00000        1.000\n",
      "            32          -0.00000        1.000\n",
      "            33           0.00000        1.000\n",
      "            34           0.00000        1.000\n",
      "            35           0.00000        1.000\n",
      "            36           0.00000        1.000\n",
      "            37           0.00000        1.000\n",
      "            38           0.00000        1.000\n",
      "            39           0.00000        1.000\n",
      "            40           0.00000        1.000\n",
      "            41           0.00000        1.000\n",
      "            42           0.00000        1.000\n",
      "            43           0.00000        1.000\n",
      "            44           0.00000        1.000\n",
      "            45           0.00000        1.000\n",
      "            46           0.00000        1.000\n",
      "            47           0.00000        1.000\n",
      "            48           0.00000        1.000\n",
      "            49           0.00000        1.000\n",
      "            50           0.00000        1.000\n",
      "            51           0.00000        1.000\n",
      "            52           0.00000        1.000\n",
      "            53           0.00000        1.000\n",
      "            54           0.00000        1.000\n",
      "            55           0.00000        1.000\n",
      "            56           0.00000        1.000\n",
      "            57           0.00000        1.000\n",
      "            58           0.00000        1.000\n",
      "            59           0.00000        1.000\n",
      "            60           0.00000        1.000\n",
      "            61           0.00000        1.000\n",
      "            62           0.00000        1.000\n",
      "            63           0.00000        1.000\n",
      "            64           0.00000        1.000\n",
      "            65           0.00000        1.000\n",
      "            66           0.00000        1.000\n",
      "            67           0.00000        1.000\n",
      "            68           0.00000        1.000\n",
      "            69           0.00000        1.000\n",
      "            70           0.00000        1.000\n",
      "            71           0.00000        1.000\n",
      "            72           0.00000        1.000\n",
      "            73           0.00000        1.000\n",
      "            74           0.00000        1.000\n",
      "            75           0.00000        1.000\n",
      "            76           0.00000        1.000\n",
      "            77           0.00000        1.000\n",
      "            78           0.00000        1.000\n",
      "            79           0.00000        1.000\n",
      "            80           0.00000        1.000\n",
      "            81           0.00000        1.000\n",
      "            82           0.00000        1.000\n",
      "            83           0.00000        1.000\n",
      "            84           0.00000        1.000\n",
      "            85           0.00000        1.000\n",
      "            86           0.00000        1.000\n",
      "            87           0.00000        1.000\n",
      "            88           0.00000        1.000\n",
      "            89           0.00000        1.000\n",
      "            90           0.00000        1.000\n",
      "            91           0.00000        1.000\n",
      "            92           0.00000        1.000\n",
      "            93           0.00000        1.000\n",
      "            94           0.00000        1.000\n",
      "            95           0.00000        1.000\n",
      "            96           0.00000        1.000\n",
      "            97           0.00000        1.000\n",
      "            98           0.00000        1.000\n",
      "            99           0.00000        1.000\n",
      "         Final           0.00000        1.000\n"
     ]
    },
    {
     "data": {
      "text/plain": [
       "0.7272727272727273"
      ]
     },
     "execution_count": 6,
     "metadata": {},
     "output_type": "execute_result"
    }
   ],
   "source": [
    "from textblob.classifiers import MaxEntClassifier\n",
    "\n",
    "\n",
    "cl2 = MaxEntClassifier(X_train.values)\n",
    "cl2.accuracy(X_test.values)"
   ]
  },
  {
   "cell_type": "code",
   "execution_count": 24,
   "id": "3e9a9571",
   "metadata": {},
   "outputs": [
    {
     "data": {
      "text/plain": [
       "0.6818181818181818"
      ]
     },
     "execution_count": 24,
     "metadata": {},
     "output_type": "execute_result"
    }
   ],
   "source": [
    "from textblob.classifiers import NaiveBayesClassifier\n",
    "\n",
    "\n",
    "cl3 = NaiveBayesClassifier(X_train.values)\n",
    "cl3.accuracy(X_test.values)"
   ]
  },
  {
   "cell_type": "code",
   "execution_count": 8,
   "id": "03e1aae4",
   "metadata": {},
   "outputs": [
    {
     "data": {
      "text/plain": [
       "0.8181818181818182"
      ]
     },
     "execution_count": 8,
     "metadata": {},
     "output_type": "execute_result"
    }
   ],
   "source": [
    "import random\n",
    "from textblob.classifiers import PositiveNaiveBayesClassifier\n",
    "\n",
    "answers = set(df2['Answer'].values)\n",
    "pos_answers = set(df2[df2['Sentiment'] == 'pos']['Answer'].values)\n",
    "train_size = int(len(pos_answers) * .25)\n",
    "pos_answers = random.sample(pos_answers, train_size)\n",
    "unlabeled_answers = set(df2['Answer'].values) - set(pos_answers)\n",
    "unlabeled_answers = random.sample(unlabeled_answers, train_size)\n",
    "cl4 = PositiveNaiveBayesClassifier(positive_set=pos_answers, unlabeled_set=unlabeled_answers)\n",
    "test_answers = X_test.copy()\n",
    "test_answers['Sentiment'] = test_answers['Sentiment'].replace({'pos': True, 'neu': False, 'neg': False})\n",
    "cl4.accuracy(test_answers.values)"
   ]
  },
  {
   "cell_type": "code",
   "execution_count": 36,
   "id": "da09cf36",
   "metadata": {},
   "outputs": [
    {
     "name": "stdout",
     "output_type": "stream",
     "text": [
      "ANS: 88, POS: 58, NEG: 30\n",
      "TRAIN SIZE: 13\n",
      "ACCURACY: 0.7272727272727273\n"
     ]
    }
   ],
   "source": [
    "import random\n",
    "from textblob.classifiers import PositiveNaiveBayesClassifier\n",
    "\n",
    "\n",
    "random.seed(5) # Con 3 da mejores resultados.\n",
    "\n",
    "answers = set(df2['Answer'].values)\n",
    "pos_answers = set(df2[df2['Sentiment'] == 'pos']['Answer'].values)\n",
    "neg_answers = set(df2[df2['Sentiment'] == 'neg']['Answer'].values)\n",
    "print(f'ANS: {len(answers)}, POS: {len(pos_answers)}, NEG: {len(neg_answers)}')\n",
    "\n",
    "train_size = int(len(answers) * .15)\n",
    "print(f'TRAIN SIZE: {train_size}')\n",
    "train_pos_answers = random.sample(pos_answers, train_size)\n",
    "train_unlabeled_answers = set(df2['Answer'].values) - set(train_pos_answers)\n",
    "train_unlabeled_answers = random.sample(unlabeled_answers, train_size)\n",
    "\n",
    "cl4 = PositiveNaiveBayesClassifier(\n",
    "    positive_set=train_pos_answers,\n",
    "    unlabeled_set=train_unlabeled_answers\n",
    ")\n",
    "test_answers = X_test.copy()\n",
    "test_answers['Sentiment'] = test_answers['Sentiment'].replace(\n",
    "    {'pos': True, 'neu': False, 'neg': False})\n",
    "acc = cl4.accuracy(test_answers.values)\n",
    "print(f'ACCURACY: {acc}')"
   ]
  }
 ],
 "metadata": {
  "interpreter": {
   "hash": "4655718913e1092f8a69c29ea1f081ca70781fe969b9ccc96843c43f043595bf"
  },
  "kernelspec": {
   "display_name": "Python 3",
   "language": "python",
   "name": "python3"
  },
  "language_info": {
   "codemirror_mode": {
    "name": "ipython",
    "version": 3
   },
   "file_extension": ".py",
   "mimetype": "text/x-python",
   "name": "python",
   "nbconvert_exporter": "python",
   "pygments_lexer": "ipython3",
   "version": "3.7.10"
  },
  "toc": {
   "base_numbering": 1,
   "nav_menu": {},
   "number_sections": true,
   "sideBar": true,
   "skip_h1_title": false,
   "title_cell": "Table of Contents",
   "title_sidebar": "Contents",
   "toc_cell": false,
   "toc_position": {},
   "toc_section_display": true,
   "toc_window_display": false
  }
 },
 "nbformat": 4,
 "nbformat_minor": 5
}
