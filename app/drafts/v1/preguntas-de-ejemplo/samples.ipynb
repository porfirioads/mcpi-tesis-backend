{
 "cells": [
  {
   "cell_type": "markdown",
   "id": "745cc795",
   "metadata": {},
   "source": [
    "<br/>\n",
    "<span style=\"font-size:xx-large;font-weight:bold;\">\n",
    "City of Tucson's Climate Action and Adaptation Plan Community Survey\n",
    "</span>\n",
    "<br/>"
   ]
  },
  {
   "cell_type": "markdown",
   "id": "149f5ce5",
   "metadata": {},
   "source": [
    "**Preguntas abiertas:**\n",
    "\n",
    "Do you have other climate mitigation ideas? Submit here:\n",
    "\n",
    "Do you have other climate adaptation ideas? Submit here:\n",
    "\n",
    "Do you have other ideas for environmental equity, justice, and community resilience? Submit here:\n",
    "\n",
    "Do you have other policy ideas? Submit here:\n",
    "\n",
    "Are you interested in participating in any other ways to help make Tucson environmentally sustainable? Submit here:\n",
    "\n",
    "Is there anything else you would like to share that was not already addressed?"
   ]
  },
  {
   "cell_type": "markdown",
   "id": "1f645954",
   "metadata": {},
   "source": [
    "**Paquetes especiales:**\n",
    "\n",
    "```\n",
    "conda install -c conda-forge pyjwt=1.7.1\n",
    "```"
   ]
  },
  {
   "cell_type": "markdown",
   "id": "9cac898e",
   "metadata": {},
   "source": [
    "# Utilidades"
   ]
  },
  {
   "cell_type": "code",
   "execution_count": 1,
   "id": "9261423a",
   "metadata": {},
   "outputs": [
    {
     "name": "stderr",
     "output_type": "stream",
     "text": [
      "[nltk_data] Downloading package names to /home/porfirio/nltk_data...\n",
      "[nltk_data]   Package names is already up-to-date!\n",
      "[nltk_data] Downloading package stopwords to\n",
      "[nltk_data]     /home/porfirio/nltk_data...\n",
      "[nltk_data]   Package stopwords is already up-to-date!\n",
      "[nltk_data] Downloading package state_union to\n",
      "[nltk_data]     /home/porfirio/nltk_data...\n",
      "[nltk_data]   Package state_union is already up-to-date!\n",
      "[nltk_data] Downloading package twitter_samples to\n",
      "[nltk_data]     /home/porfirio/nltk_data...\n",
      "[nltk_data]   Package twitter_samples is already up-to-date!\n",
      "[nltk_data] Downloading package movie_reviews to\n",
      "[nltk_data]     /home/porfirio/nltk_data...\n",
      "[nltk_data]   Package movie_reviews is already up-to-date!\n",
      "[nltk_data] Downloading package averaged_perceptron_tagger to\n",
      "[nltk_data]     /home/porfirio/nltk_data...\n",
      "[nltk_data]   Package averaged_perceptron_tagger is already up-to-\n",
      "[nltk_data]       date!\n",
      "[nltk_data] Downloading package vader_lexicon to\n",
      "[nltk_data]     /home/porfirio/nltk_data...\n",
      "[nltk_data]   Package vader_lexicon is already up-to-date!\n",
      "[nltk_data] Downloading package punkt to /home/porfirio/nltk_data...\n",
      "[nltk_data]   Package punkt is already up-to-date!\n"
     ]
    }
   ],
   "source": [
    "# Esta celda contiene funciones de utilidad para la preparación de los datos para el\n",
    "# análisis de texto.\n",
    "\n",
    "import nltk\n",
    "from wordcloud import WordCloud\n",
    "import matplotlib.pyplot as plt\n",
    "from collections import Counter\n",
    "\n",
    "# Descarga los elementos de NLTK necesarios.\n",
    "nltk.download([\n",
    "    \"names\",\n",
    "    \"stopwords\",\n",
    "    \"state_union\",\n",
    "    \"twitter_samples\",\n",
    "    \"movie_reviews\",\n",
    "    \"averaged_perceptron_tagger\",\n",
    "    \"vader_lexicon\",\n",
    "    \"punkt\",\n",
    "])\n",
    "\n",
    "def get_unwanted_words():\n",
    "    \"\"\"\n",
    "    Genera la lista de palabras irrelevantes para el análisis de sentimientos y que \n",
    "    por tanto se ignorarán. Entre estos tipos de palabras se encuentran artículos, \n",
    "    pronombres, preposiciones, conjunciones y palabras definidas por nosotros mismos.\n",
    "    \"\"\"\n",
    "    unwanted = nltk.corpus.stopwords.words(\"english\")\n",
    "    unwanted.extend([w.lower() for w in nltk.corpus.names.words()])\n",
    "    unwanted.extend(['tucson', 'city', 'people'])\n",
    "    return unwanted\n",
    "\n",
    "\n",
    "def get_column_clean_copy(dataframe, column_name):\n",
    "    \"\"\"\n",
    "    Copia y limpia los valores de una columna en un dataframe nuevo.\n",
    "    \"\"\"\n",
    "    df_copy = dataframe[[column_name]].copy()\n",
    "    df_copy = df_copy.replace(r'\\n', ' ', regex=True) \n",
    "    df_copy = df_copy.replace(r'^\\s*no\\s*$', '', regex=True)\n",
    "    df_copy = df_copy.replace(r'^\\s*NO\\s*$', '', regex=True)\n",
    "    df_copy = df_copy.replace(r'^\\s*No\\s*$', '', regex=True)\n",
    "    df_copy = df_copy.replace(r'^\\s*nO\\s*$', '', regex=True)\n",
    "    df_copy = df_copy.replace(r'^\\s*-\\s*$', '', regex=True)\n",
    "    nan_value = float(\"NaN\")\n",
    "    df_copy.replace('', nan_value, inplace=True)\n",
    "    df_copy = df_copy.dropna()\n",
    "    return df_copy\n",
    "\n",
    "\n",
    "def filter_words_array(words, unwanted_words):\n",
    "    \"\"\"\n",
    "    Filtra una lista de palabras de acuerdo a una lista establecida y otros\n",
    "    parámetros utilizados para dejar solamente palabras útiles para el\n",
    "    análisis de texto.\n",
    "    \"\"\"\n",
    "    # Elimina palabras no deseadas.\n",
    "    words = [w.lower() for w in words if w.lower() not in unwanted_words]\n",
    "    # Elimina tokens no alfabéticos.\n",
    "    words = [w.lower() for w in words if w.isalpha()]\n",
    "    return words\n",
    "\n",
    "\n",
    "def create_word_cloud(words, title=None):\n",
    "    \"\"\"\n",
    "    Genera una wordcloud a partir de una lista de palabras.\n",
    "    Esta función no realiza filtros de unwanted words, las\n",
    "    palabras que se manden ya deben estar filtradas.\n",
    "    \"\"\"\n",
    "    if len(words) == 0:\n",
    "        words = ['NONE']\n",
    "        \n",
    "    # Concatena los tokens para formar una sola cadena\n",
    "    text = ', '.join([word for word in words])\n",
    "\n",
    "    # Configura la wordcloud\n",
    "    wordcloud = WordCloud(width=1500, height=500,\n",
    "                          background_color='white',\n",
    "                          min_font_size=10).generate(text)\n",
    "\n",
    "    # Muestra la wordcloud\n",
    "    plt.figure(figsize=(15, 5), facecolor=None)\n",
    "    plt.imshow(wordcloud)\n",
    "    plt.axis(\"off\")\n",
    "    plt.tight_layout(pad=0)\n",
    "\n",
    "    if title is not None:\n",
    "        plt.title(title, fontdict={\n",
    "                  'family': 'sans', 'color': 'black', 'size': 50}, pad=20)\n",
    "    plt.show()\n",
    "    return wordcloud\n",
    "\n",
    "\n",
    "def most_frequent(items):\n",
    "    occurence_count = Counter(items)\n",
    "    return occurence_count.most_common(1)[0][0]"
   ]
  },
  {
   "cell_type": "code",
   "execution_count": 2,
   "id": "a198b29b",
   "metadata": {},
   "outputs": [],
   "source": [
    "unwanted_words = get_unwanted_words()"
   ]
  },
  {
   "cell_type": "markdown",
   "id": "88f8462b",
   "metadata": {},
   "source": [
    "# Algoritmos"
   ]
  },
  {
   "cell_type": "markdown",
   "id": "e1484ae4",
   "metadata": {},
   "source": [
    "## Algoritmo VADER"
   ]
  },
  {
   "cell_type": "code",
   "execution_count": 3,
   "id": "f8d5d301",
   "metadata": {},
   "outputs": [],
   "source": [
    "from nltk.sentiment import SentimentIntensityAnalyzer\n",
    "\n",
    "sia = SentimentIntensityAnalyzer()\n",
    "\n",
    "def get_vader_score(text):\n",
    "    return sia.polarity_scores(str(text))['compound']"
   ]
  },
  {
   "cell_type": "markdown",
   "id": "3e380fac",
   "metadata": {},
   "source": [
    "## Algoritmo Textblob"
   ]
  },
  {
   "cell_type": "code",
   "execution_count": 4,
   "id": "d6329bb1",
   "metadata": {},
   "outputs": [],
   "source": [
    "from textblob import TextBlob\n",
    "\n",
    "def get_textblob_score(text):\n",
    "    return TextBlob(text).sentiment.polarity"
   ]
  },
  {
   "cell_type": "markdown",
   "id": "15924abe",
   "metadata": {},
   "source": [
    "## Algoritmo IBM Watson"
   ]
  },
  {
   "cell_type": "code",
   "execution_count": 5,
   "id": "118a7905",
   "metadata": {},
   "outputs": [],
   "source": [
    "import json\n",
    "from ibm_watson import NaturalLanguageUnderstandingV1\n",
    "from ibm_cloud_sdk_core.authenticators import IAMAuthenticator\n",
    "from ibm_watson.natural_language_understanding_v1 import Features, SentimentOptions\n",
    "\n",
    "\n",
    "def get_ibmwatson_score(text):\n",
    "    # Inicializa autenticador para la API de IBM.\n",
    "    authenticator = IAMAuthenticator(\n",
    "        'Keolj04gR6No5O3s36YIuYpSrHO1qbwHBVF2koYAdlKn'\n",
    "    )\n",
    "\n",
    "    # Inicializa el analizador.\n",
    "    natural_language_understanding = NaturalLanguageUnderstandingV1(\n",
    "        version='2020-08-01',\n",
    "        authenticator=authenticator,\n",
    "    )\n",
    "\n",
    "    # Establece la URL del analizador.\n",
    "    natural_language_understanding.set_service_url(\n",
    "        'https://api.us-south.natural-language-understanding.watson.cloud.ibm.com/instances/ad75e4da-163f-4ebc-aedd-9324258d41c7'\n",
    "    )\n",
    "    \n",
    "    # Realiza el análisis\n",
    "    response = natural_language_understanding.analyze (\n",
    "        text = text,\n",
    "        features = Features(sentiment=SentimentOptions()),\n",
    "        language = 'en'\n",
    "    ).get_result()\n",
    "    \n",
    "    # Extrae el score del resultado del análisis\n",
    "    res = response.get('sentiment').get('document').get('score')\n",
    "    return res"
   ]
  },
  {
   "cell_type": "markdown",
   "id": "3330cd7c",
   "metadata": {},
   "source": [
    "## Algoritmo Naive Bayes Textblob"
   ]
  },
  {
   "cell_type": "code",
   "execution_count": 6,
   "id": "ead02628",
   "metadata": {},
   "outputs": [],
   "source": [
    "from textblob.sentiments import NaiveBayesAnalyzer\n",
    "\n",
    "\n",
    "def get_textblob_nb_score(text):\n",
    "    return TextBlob(text, analyzer=NaiveBayesAnalyzer()).polarity"
   ]
  },
  {
   "cell_type": "markdown",
   "id": "08710460",
   "metadata": {},
   "source": [
    "## Obtención de scores y polaridades"
   ]
  },
  {
   "cell_type": "code",
   "execution_count": 7,
   "id": "33b01f5d",
   "metadata": {},
   "outputs": [],
   "source": [
    "def get_sentiment_scores(dataframe, column):\n",
    "    \"\"\"\n",
    "    Obtiene los scores de análisis de sentimientos para los valores de la\n",
    "    columna de un dataframe.\n",
    "    \n",
    "    Los algorimos usados son:\n",
    "    - Vader\n",
    "    - Textblob\n",
    "    - IBM Watson\n",
    "    - Naive Bayes\n",
    "    \"\"\"\n",
    "    \n",
    "    classified_data = []\n",
    "    index = 1\n",
    "    totales = len(dataframe[column])\n",
    "    \n",
    "    for text in dataframe[column]:\n",
    "        text_str = str(text)\n",
    "        \n",
    "        scores = [\n",
    "            get_vader_score(text_str),\n",
    "            get_textblob_score(text_str),\n",
    "            get_ibmwatson_score(text_str),\n",
    "            get_textblob_nb_score(text_str),\n",
    "        ]\n",
    "        \n",
    "        classified_data.append([\n",
    "            scores[0],\n",
    "            scores[1],\n",
    "            scores[2],\n",
    "            scores[3]\n",
    "        ])\n",
    "        \n",
    "        print(f'Clasificación {index} de {totales}')\n",
    "        index += 1\n",
    "        \n",
    "    return classified_data"
   ]
  },
  {
   "cell_type": "code",
   "execution_count": 8,
   "id": "9b15f745",
   "metadata": {},
   "outputs": [],
   "source": [
    "def get_polaridades(score_groups, neutral_mode='neutral'):\n",
    "    \"\"\"\n",
    "    Obtiene la polaridad del score de sentimientos de un \n",
    "    conjunto de datos.\n",
    "    \"\"\"\n",
    "    \n",
    "    polaridades = []\n",
    "\n",
    "    for i in range(len(score_groups)):\n",
    "        polaridades.append([])\n",
    "        \n",
    "        for j in range(4): \n",
    "            polaridades[i].append(score_groups[i][j])\n",
    "            \n",
    "            if polaridades[i][j] > 0.15:\n",
    "                polaridades[i][j] = 1\n",
    "            elif polaridades[i][j] < -0.15:\n",
    "                polaridades[i][j] = -1\n",
    "            else:\n",
    "                if neutral_mode == 'neutral':\n",
    "                    polaridades[i][j] = 0\n",
    "                elif neutral_mode == 'positive_to_neutral':\n",
    "                    polaridades[i][j] = 1\n",
    "                elif neutral_mode == 'negative_to_neutral':\n",
    "                    polaridades[i][j] = -1\n",
    "\n",
    "    return polaridades"
   ]
  },
  {
   "cell_type": "code",
   "execution_count": 9,
   "id": "03bb853c",
   "metadata": {},
   "outputs": [],
   "source": [
    "def create_classified_dataframe(dataframe, scores, neutral_mode='neutral'):\n",
    "    \"\"\"\n",
    "    Crea un dataframe con los resultados de la clasificación de sentimientos.\n",
    "    \"\"\"\n",
    "    \n",
    "    polaridades = get_polaridades(scores, neutral_mode)\n",
    "    classified_df = pd.DataFrame(polaridades, columns=['Vader', 'Textblob', 'Watson', 'Naive'])\n",
    "    classified_df['Answer'] = dataframe['Answer'].tolist()\n",
    "    max_votings = []\n",
    "    \n",
    "    for group in polaridades:\n",
    "        max_votings.append(most_frequent(group))\n",
    "    \n",
    "    classified_df['MaxVoting'] = max_votings\n",
    "    classified_df['Sentiment'] = dataframe['Sentiment'].tolist()\n",
    "    columns = ['Answer', 'Vader', 'Textblob', 'Watson', 'Naive', 'MaxVoting', 'Sentiment']\n",
    "    classified_df = classified_df[columns]\n",
    "    return classified_df"
   ]
  },
  {
   "cell_type": "code",
   "execution_count": 10,
   "id": "324dc967",
   "metadata": {},
   "outputs": [],
   "source": [
    "import seaborn as sn\n",
    "import matplotlib.pyplot as plt\n",
    "from sklearn import metrics\n",
    "\n",
    "\n",
    "def plot_confussion_matrix(dataframe, y_actual, y_pred):\n",
    "    # Genera la matriz de confusión\n",
    "    confussion_matrix = pd.crosstab(\n",
    "        classified_df2[y_actual],\n",
    "        classified_df2[y_pred],\n",
    "        rownames=[y_actual],\n",
    "        colnames=[y_pred],\n",
    "        normalize='index'\n",
    "    ).round(4) * 100\n",
    "\n",
    "    # Muestra heatmap de la matriz de confusión\n",
    "    sn.heatmap(confussion_matrix, annot=True, cmap='Blues')\n",
    "    plt.show()\n",
    "    \n",
    "    return confussion_matrix\n",
    "\n",
    "    \n",
    "def show_confussion_matrix_metrics(dataframe, y_actual, y_pred):\n",
    "    # Printing the precision and recall, among other metrics\n",
    "    print(metrics.classification_report(dataframe[y_actual], dataframe[y_pred], labels=[-1, 0, 1]))"
   ]
  },
  {
   "cell_type": "code",
   "execution_count": 11,
   "id": "eee5b4e8",
   "metadata": {},
   "outputs": [],
   "source": [
    "from sklearn.metrics import cohen_kappa_score\n",
    "\n",
    "def kappa(dataframe, y_actual, y_pred):\n",
    "    return cohen_kappa_score(dataframe[y_actual], dataframe[y_pred])"
   ]
  },
  {
   "cell_type": "code",
   "execution_count": 12,
   "id": "73df92b8",
   "metadata": {},
   "outputs": [],
   "source": [
    "def show_classifier_results(classifier, dataframe, y_actual):\n",
    "    print(f'CLASIFICACIONES {classifier.upper()}')\n",
    "    prediction = get_num_clasificaciones(dataframe, classifier)\n",
    "    print('\\nMATRIZ DE CONFUSIÓN')\n",
    "    confussion_matrix = plot_confussion_matrix(dataframe, y_actual, classifier)\n",
    "    \n",
    "    print('METRICS')\n",
    "    show_confussion_matrix_metrics(classified_df2, y_actual, classifier)\n",
    "    \n",
    "    print('KAPPA')\n",
    "    kappa_coef = kappa(dataframe, y_actual, classifier)\n",
    "    print(kappa_coef)"
   ]
  },
  {
   "cell_type": "code",
   "execution_count": 13,
   "id": "c0d54b48",
   "metadata": {},
   "outputs": [],
   "source": [
    "def get_num_clasificaciones(dataframe, algoritmo):\n",
    "    pred_positivas = 0\n",
    "    pred_negativas = 0\n",
    "    pred_neutrales = 0\n",
    "\n",
    "    for sentimiento in dataframe[algoritmo]:\n",
    "        if sentimiento == 1:\n",
    "            pred_positivas += 1\n",
    "        elif sentimiento == 0:\n",
    "            pred_neutrales += 1\n",
    "        elif sentimiento == -1:\n",
    "            pred_negativas += 1\n",
    "\n",
    "    print(f'{algoritmo} positivas: {pred_positivas}')\n",
    "    print(f'{algoritmo} negativas: {pred_negativas}')\n",
    "    print(f'{algoritmo} neutrales: {pred_neutrales}')\n",
    "    \n",
    "    return [pred_positivas, pred_negativas, pred_neutrales]"
   ]
  },
  {
   "cell_type": "markdown",
   "id": "5d6dc393",
   "metadata": {},
   "source": [
    "# Muestras de respuestas originales"
   ]
  },
  {
   "cell_type": "markdown",
   "id": "acf00301",
   "metadata": {},
   "source": [
    "## Lectura del dataset"
   ]
  },
  {
   "cell_type": "markdown",
   "id": "3fd2432c",
   "metadata": {},
   "source": [
    "## Análisis de sentimientos"
   ]
  },
  {
   "cell_type": "markdown",
   "id": "d238f966",
   "metadata": {},
   "source": [
    "# Muestras de respuestas con separaciones"
   ]
  },
  {
   "cell_type": "markdown",
   "id": "15cd9a65",
   "metadata": {},
   "source": [
    "## Lectura del dataset"
   ]
  },
  {
   "cell_type": "code",
   "execution_count": 14,
   "id": "30bb24f2",
   "metadata": {},
   "outputs": [],
   "source": [
    "import pandas as pd\n",
    "\n",
    "df2 = pd.read_csv(r'utf8/sample-tucson-separado.csv', encoding='latin-1')"
   ]
  },
  {
   "cell_type": "code",
   "execution_count": 15,
   "id": "d16f2956",
   "metadata": {},
   "outputs": [
    {
     "data": {
      "text/html": [
       "<div>\n",
       "<style scoped>\n",
       "    .dataframe tbody tr th:only-of-type {\n",
       "        vertical-align: middle;\n",
       "    }\n",
       "\n",
       "    .dataframe tbody tr th {\n",
       "        vertical-align: top;\n",
       "    }\n",
       "\n",
       "    .dataframe thead th {\n",
       "        text-align: right;\n",
       "    }\n",
       "</style>\n",
       "<table border=\"1\" class=\"dataframe\">\n",
       "  <thead>\n",
       "    <tr style=\"text-align: right;\">\n",
       "      <th></th>\n",
       "      <th>Answer</th>\n",
       "      <th>Question</th>\n",
       "      <th>Sentiment</th>\n",
       "    </tr>\n",
       "  </thead>\n",
       "  <tbody>\n",
       "    <tr>\n",
       "      <th>0</th>\n",
       "      <td>Planting shade trees along city walks to reduc...</td>\n",
       "      <td>1</td>\n",
       "      <td>Positive</td>\n",
       "    </tr>\n",
       "    <tr>\n",
       "      <th>1</th>\n",
       "      <td>Changing roads from black asphalt to something...</td>\n",
       "      <td>1</td>\n",
       "      <td>Positive</td>\n",
       "    </tr>\n",
       "    <tr>\n",
       "      <th>2</th>\n",
       "      <td>Tucson for the most part is not walkable. What...</td>\n",
       "      <td>1</td>\n",
       "      <td>Negative</td>\n",
       "    </tr>\n",
       "    <tr>\n",
       "      <th>3</th>\n",
       "      <td>Tree planting, green space, restrict new devel...</td>\n",
       "      <td>1</td>\n",
       "      <td>Positive</td>\n",
       "    </tr>\n",
       "    <tr>\n",
       "      <th>4</th>\n",
       "      <td>Truly, it seems that vehicle pollution in Tucs...</td>\n",
       "      <td>1</td>\n",
       "      <td>Negative</td>\n",
       "    </tr>\n",
       "    <tr>\n",
       "      <th>5</th>\n",
       "      <td>Encouraging and promoting alternative forms of...</td>\n",
       "      <td>1</td>\n",
       "      <td>Positive</td>\n",
       "    </tr>\n",
       "    <tr>\n",
       "      <th>6</th>\n",
       "      <td>More walkable spaces. Completely close some st...</td>\n",
       "      <td>1</td>\n",
       "      <td>Positive</td>\n",
       "    </tr>\n",
       "    <tr>\n",
       "      <th>7</th>\n",
       "      <td>Support green job industries and training prog...</td>\n",
       "      <td>1</td>\n",
       "      <td>Positive</td>\n",
       "    </tr>\n",
       "    <tr>\n",
       "      <th>8</th>\n",
       "      <td>Insulation Community or city large scale solar...</td>\n",
       "      <td>1</td>\n",
       "      <td>Positive</td>\n",
       "    </tr>\n",
       "    <tr>\n",
       "      <th>9</th>\n",
       "      <td>Water efficiency programs to save on energy em...</td>\n",
       "      <td>1</td>\n",
       "      <td>Positive</td>\n",
       "    </tr>\n",
       "  </tbody>\n",
       "</table>\n",
       "</div>"
      ],
      "text/plain": [
       "                                              Answer  Question Sentiment\n",
       "0  Planting shade trees along city walks to reduc...         1  Positive\n",
       "1  Changing roads from black asphalt to something...         1  Positive\n",
       "2  Tucson for the most part is not walkable. What...         1  Negative\n",
       "3  Tree planting, green space, restrict new devel...         1  Positive\n",
       "4  Truly, it seems that vehicle pollution in Tucs...         1  Negative\n",
       "5  Encouraging and promoting alternative forms of...         1  Positive\n",
       "6  More walkable spaces. Completely close some st...         1  Positive\n",
       "7  Support green job industries and training prog...         1  Positive\n",
       "8  Insulation Community or city large scale solar...         1  Positive\n",
       "9  Water efficiency programs to save on energy em...         1  Positive"
      ]
     },
     "execution_count": 15,
     "metadata": {},
     "output_type": "execute_result"
    }
   ],
   "source": [
    "df2.head(10)"
   ]
  },
  {
   "cell_type": "markdown",
   "id": "eda29700",
   "metadata": {},
   "source": [
    "## Análisis de sentimientos"
   ]
  },
  {
   "cell_type": "code",
   "execution_count": 16,
   "id": "61040283",
   "metadata": {},
   "outputs": [
    {
     "name": "stdout",
     "output_type": "stream",
     "text": [
      "Clasificación 1 de 95\n",
      "Clasificación 2 de 95\n",
      "Clasificación 3 de 95\n",
      "Clasificación 4 de 95\n",
      "Clasificación 5 de 95\n",
      "Clasificación 6 de 95\n",
      "Clasificación 7 de 95\n",
      "Clasificación 8 de 95\n",
      "Clasificación 9 de 95\n",
      "Clasificación 10 de 95\n",
      "Clasificación 11 de 95\n",
      "Clasificación 12 de 95\n",
      "Clasificación 13 de 95\n",
      "Clasificación 14 de 95\n",
      "Clasificación 15 de 95\n",
      "Clasificación 16 de 95\n",
      "Clasificación 17 de 95\n",
      "Clasificación 18 de 95\n",
      "Clasificación 19 de 95\n",
      "Clasificación 20 de 95\n",
      "Clasificación 21 de 95\n",
      "Clasificación 22 de 95\n",
      "Clasificación 23 de 95\n",
      "Clasificación 24 de 95\n",
      "Clasificación 25 de 95\n",
      "Clasificación 26 de 95\n",
      "Clasificación 27 de 95\n",
      "Clasificación 28 de 95\n",
      "Clasificación 29 de 95\n",
      "Clasificación 30 de 95\n",
      "Clasificación 31 de 95\n",
      "Clasificación 32 de 95\n",
      "Clasificación 33 de 95\n",
      "Clasificación 34 de 95\n",
      "Clasificación 35 de 95\n",
      "Clasificación 36 de 95\n",
      "Clasificación 37 de 95\n",
      "Clasificación 38 de 95\n",
      "Clasificación 39 de 95\n",
      "Clasificación 40 de 95\n",
      "Clasificación 41 de 95\n",
      "Clasificación 42 de 95\n",
      "Clasificación 43 de 95\n",
      "Clasificación 44 de 95\n",
      "Clasificación 45 de 95\n",
      "Clasificación 46 de 95\n",
      "Clasificación 47 de 95\n",
      "Clasificación 48 de 95\n",
      "Clasificación 49 de 95\n",
      "Clasificación 50 de 95\n",
      "Clasificación 51 de 95\n",
      "Clasificación 52 de 95\n",
      "Clasificación 53 de 95\n",
      "Clasificación 54 de 95\n",
      "Clasificación 55 de 95\n",
      "Clasificación 56 de 95\n",
      "Clasificación 57 de 95\n",
      "Clasificación 58 de 95\n",
      "Clasificación 59 de 95\n",
      "Clasificación 60 de 95\n",
      "Clasificación 61 de 95\n",
      "Clasificación 62 de 95\n",
      "Clasificación 63 de 95\n",
      "Clasificación 64 de 95\n",
      "Clasificación 65 de 95\n",
      "Clasificación 66 de 95\n",
      "Clasificación 67 de 95\n",
      "Clasificación 68 de 95\n",
      "Clasificación 69 de 95\n",
      "Clasificación 70 de 95\n",
      "Clasificación 71 de 95\n",
      "Clasificación 72 de 95\n",
      "Clasificación 73 de 95\n",
      "Clasificación 74 de 95\n",
      "Clasificación 75 de 95\n",
      "Clasificación 76 de 95\n",
      "Clasificación 77 de 95\n",
      "Clasificación 78 de 95\n",
      "Clasificación 79 de 95\n",
      "Clasificación 80 de 95\n",
      "Clasificación 81 de 95\n",
      "Clasificación 82 de 95\n",
      "Clasificación 83 de 95\n",
      "Clasificación 84 de 95\n",
      "Clasificación 85 de 95\n",
      "Clasificación 86 de 95\n",
      "Clasificación 87 de 95\n",
      "Clasificación 88 de 95\n",
      "Clasificación 89 de 95\n",
      "Clasificación 90 de 95\n",
      "Clasificación 91 de 95\n",
      "Clasificación 92 de 95\n",
      "Clasificación 93 de 95\n",
      "Clasificación 94 de 95\n",
      "Clasificación 95 de 95\n"
     ]
    }
   ],
   "source": [
    "sentiment_scores = get_sentiment_scores(df2, 'Answer')"
   ]
  },
  {
   "cell_type": "code",
   "execution_count": 17,
   "id": "da616d34",
   "metadata": {},
   "outputs": [],
   "source": [
    "# Crea una copia del dataframe y reemplaza los datos categóricos del sentimiento por numéricos.\n",
    "df2t = df2.copy()\n",
    "df2t['Sentiment'] = df2t['Sentiment'].replace({'Positive': 1, 'Neutral': 0, 'Negative': -1})"
   ]
  },
  {
   "cell_type": "markdown",
   "id": "ed9c9ab0",
   "metadata": {},
   "source": [
    "## Resultados"
   ]
  },
  {
   "cell_type": "markdown",
   "id": "d67083f9",
   "metadata": {},
   "source": [
    "**Verdadero positivo:** Predijo positivo y es verdad.\n",
    "\n",
    "**Verdadero negativo:** Predijo negativo y es verdad.\n",
    "\n",
    "**Falso positivo:** Predijo positivo pero es falso.\n",
    "\n",
    "**Falso negativo:** Predijo negativo pero es falso.\n",
    "___\n",
    "\n",
    "**Precision:** Número de elementos identificados correctamente como positivos de un total de elementos identificados como positivos.\n",
    "\n",
    "**Recall:** Número de elementos identificados correctamente como positivos del total de positivos verdaderos.\n",
    "\n",
    "**F1:** Combina precision y recall.\n",
    "\n",
    "**Accuracy:** Mide el porcentaje de elementos clasificados correctamente. Esta métrica presenta problemas si las clases no están balanceadas. Por ejemplo, se tienen 10 gatos y 90 perros, entonces, si se predice perro para cada objeto, la accuracy sería del 90%, pero esto debido a que el modelo siempre predice perro sin importar la entrada.\n",
    "\n",
    "**Kappa:** Medida estadística que ajusta el efecto del azar en la proporción de la concordancia observada para elementos cualitativos (variables categóricas). En general se cree que es una medida más robusta que el simple cálculo del porcentaje de concordancia, ya que k tiene en cuenta el acuerdo que ocurre por azar.\n",
    "\n",
    "< 0 No agreement\n",
    "\n",
    "0 - .20 Slight\n",
    "\n",
    ".21 - .40 Fair\n",
    "\n",
    ".41 - .60 Moderate\n",
    "\n",
    ".61 - .80 Substantial\n",
    "\n",
    ".81 - 1.0 Perfect"
   ]
  },
  {
   "cell_type": "markdown",
   "id": "b3c79dfa",
   "metadata": {},
   "source": [
    " ### Consideración de tres polaridades (positivo, negativo y neutral)"
   ]
  },
  {
   "cell_type": "code",
   "execution_count": 18,
   "id": "68defe80",
   "metadata": {},
   "outputs": [],
   "source": [
    "classified_df2 = create_classified_dataframe(df2t, sentiment_scores, neutral_mode='neutral')"
   ]
  },
  {
   "cell_type": "code",
   "execution_count": 19,
   "id": "7c563b02",
   "metadata": {},
   "outputs": [
    {
     "name": "stdout",
     "output_type": "stream",
     "text": [
      "Sentiment positivas: 58\n",
      "Sentiment negativas: 30\n",
      "Sentiment neutrales: 7\n"
     ]
    }
   ],
   "source": [
    "real_sentiment = get_num_clasificaciones(classified_df2, 'Sentiment')"
   ]
  },
  {
   "cell_type": "code",
   "execution_count": 20,
   "id": "3748d5e9",
   "metadata": {},
   "outputs": [
    {
     "name": "stdout",
     "output_type": "stream",
     "text": [
      "CLASIFICACIONES VADER\n",
      "Vader positivas: 50\n",
      "Vader negativas: 19\n",
      "Vader neutrales: 26\n",
      "\n",
      "MATRIZ DE CONFUSIÓN\n"
     ]
    },
    {
     "data": {
      "image/png": "[encoded data removed]",
      "text/plain": [
       "<Figure size 432x288 with 2 Axes>"
      ]
     },
     "metadata": {
      "needs_background": "light"
     },
     "output_type": "display_data"
    },
    {
     "name": "stdout",
     "output_type": "stream",
     "text": [
      "METRICS\n",
      "              precision    recall  f1-score   support\n",
      "\n",
      "          -1       0.74      0.47      0.57        30\n",
      "           0       0.08      0.29      0.12         7\n",
      "           1       0.72      0.62      0.67        58\n",
      "\n",
      "    accuracy                           0.55        95\n",
      "   macro avg       0.51      0.46      0.45        95\n",
      "weighted avg       0.68      0.55      0.60        95\n",
      "\n",
      "KAPPA\n",
      "0.23971710403871205\n"
     ]
    }
   ],
   "source": [
    "show_classifier_results('Vader', classified_df2, 'Sentiment')"
   ]
  },
  {
   "cell_type": "code",
   "execution_count": 21,
   "id": "5d3fded3",
   "metadata": {},
   "outputs": [
    {
     "name": "stdout",
     "output_type": "stream",
     "text": [
      "CLASIFICACIONES TEXTBLOB\n",
      "Textblob positivas: 32\n",
      "Textblob negativas: 14\n",
      "Textblob neutrales: 49\n",
      "\n",
      "MATRIZ DE CONFUSIÓN\n"
     ]
    },
    {
     "data": {
      "image/png": "[encoded data removed]",
      "text/plain": [
       "<Figure size 432x288 with 2 Axes>"
      ]
     },
     "metadata": {
      "needs_background": "light"
     },
     "output_type": "display_data"
    },
    {
     "name": "stdout",
     "output_type": "stream",
     "text": [
      "METRICS\n",
      "              precision    recall  f1-score   support\n",
      "\n",
      "          -1       0.36      0.17      0.23        30\n",
      "           0       0.04      0.29      0.07         7\n",
      "           1       0.59      0.33      0.42        58\n",
      "\n",
      "    accuracy                           0.27        95\n",
      "   macro avg       0.33      0.26      0.24        95\n",
      "weighted avg       0.48      0.27      0.33        95\n",
      "\n",
      "KAPPA\n",
      "-0.02325944427099591\n"
     ]
    }
   ],
   "source": [
    "show_classifier_results('Textblob', classified_df2, 'Sentiment')"
   ]
  },
  {
   "cell_type": "code",
   "execution_count": 22,
   "id": "b7c43944",
   "metadata": {},
   "outputs": [
    {
     "name": "stdout",
     "output_type": "stream",
     "text": [
      "CLASIFICACIONES WATSON\n",
      "Watson positivas: 36\n",
      "Watson negativas: 36\n",
      "Watson neutrales: 23\n",
      "\n",
      "MATRIZ DE CONFUSIÓN\n"
     ]
    },
    {
     "data": {
      "image/png": "[encoded data removed]",
      "text/plain": [
       "<Figure size 432x288 with 2 Axes>"
      ]
     },
     "metadata": {
      "needs_background": "light"
     },
     "output_type": "display_data"
    },
    {
     "name": "stdout",
     "output_type": "stream",
     "text": [
      "METRICS\n",
      "              precision    recall  f1-score   support\n",
      "\n",
      "          -1       0.67      0.80      0.73        30\n",
      "           0       0.04      0.14      0.07         7\n",
      "           1       0.83      0.52      0.64        58\n",
      "\n",
      "    accuracy                           0.58        95\n",
      "   macro avg       0.51      0.49      0.48        95\n",
      "weighted avg       0.72      0.58      0.62        95\n",
      "\n",
      "KAPPA\n",
      "0.3328651685393259\n"
     ]
    }
   ],
   "source": [
    "show_classifier_results('Watson', classified_df2, 'Sentiment')"
   ]
  },
  {
   "cell_type": "code",
   "execution_count": 23,
   "id": "5a6718b3",
   "metadata": {},
   "outputs": [
    {
     "name": "stdout",
     "output_type": "stream",
     "text": [
      "CLASIFICACIONES NAIVE\n",
      "Naive positivas: 32\n",
      "Naive negativas: 14\n",
      "Naive neutrales: 49\n",
      "\n",
      "MATRIZ DE CONFUSIÓN\n"
     ]
    },
    {
     "data": {
      "image/png": "[encoded data removed]",
      "text/plain": [
       "<Figure size 432x288 with 2 Axes>"
      ]
     },
     "metadata": {
      "needs_background": "light"
     },
     "output_type": "display_data"
    },
    {
     "name": "stdout",
     "output_type": "stream",
     "text": [
      "METRICS\n",
      "              precision    recall  f1-score   support\n",
      "\n",
      "          -1       0.36      0.17      0.23        30\n",
      "           0       0.04      0.29      0.07         7\n",
      "           1       0.59      0.33      0.42        58\n",
      "\n",
      "    accuracy                           0.27        95\n",
      "   macro avg       0.33      0.26      0.24        95\n",
      "weighted avg       0.48      0.27      0.33        95\n",
      "\n",
      "KAPPA\n",
      "-0.02325944427099591\n"
     ]
    }
   ],
   "source": [
    "show_classifier_results('Naive', classified_df2, 'Sentiment')"
   ]
  },
  {
   "cell_type": "code",
   "execution_count": 24,
   "id": "d393da53",
   "metadata": {},
   "outputs": [
    {
     "name": "stdout",
     "output_type": "stream",
     "text": [
      "CLASIFICACIONES MAXVOTING\n",
      "MaxVoting positivas: 42\n",
      "MaxVoting negativas: 20\n",
      "MaxVoting neutrales: 33\n",
      "\n",
      "MATRIZ DE CONFUSIÓN\n"
     ]
    },
    {
     "data": {
      "image/png": "[encoded data removed]",
      "text/plain": [
       "<Figure size 432x288 with 2 Axes>"
      ]
     },
     "metadata": {
      "needs_background": "light"
     },
     "output_type": "display_data"
    },
    {
     "name": "stdout",
     "output_type": "stream",
     "text": [
      "METRICS\n",
      "              precision    recall  f1-score   support\n",
      "\n",
      "          -1       0.60      0.40      0.48        30\n",
      "           0       0.03      0.14      0.05         7\n",
      "           1       0.69      0.50      0.58        58\n",
      "\n",
      "    accuracy                           0.44        95\n",
      "   macro avg       0.44      0.35      0.37        95\n",
      "weighted avg       0.61      0.44      0.51        95\n",
      "\n",
      "KAPPA\n",
      "0.1255644320944772\n"
     ]
    }
   ],
   "source": [
    "show_classifier_results('MaxVoting', classified_df2, 'Sentiment')"
   ]
  },
  {
   "cell_type": "markdown",
   "id": "38907780",
   "metadata": {},
   "source": [
    " ### Transformación con 2 polaridades (neutral a negativo)"
   ]
  },
  {
   "cell_type": "code",
   "execution_count": 25,
   "id": "7e6796f8",
   "metadata": {},
   "outputs": [],
   "source": [
    "classified_df2 = create_classified_dataframe(df2t, sentiment_scores, 'negative_to_neutral')\n",
    "classified_df2['Sentiment'] = classified_df2['Sentiment'].replace({0: -1})"
   ]
  },
  {
   "cell_type": "code",
   "execution_count": 26,
   "id": "ed2f3e22",
   "metadata": {},
   "outputs": [
    {
     "name": "stdout",
     "output_type": "stream",
     "text": [
      "Sentiment positivas: 58\n",
      "Sentiment negativas: 37\n",
      "Sentiment neutrales: 0\n"
     ]
    }
   ],
   "source": [
    "real_sentiment = get_num_clasificaciones(classified_df2, 'Sentiment')"
   ]
  },
  {
   "cell_type": "code",
   "execution_count": 27,
   "id": "09d06eb0",
   "metadata": {},
   "outputs": [
    {
     "name": "stdout",
     "output_type": "stream",
     "text": [
      "CLASIFICACIONES VADER\n",
      "Vader positivas: 50\n",
      "Vader negativas: 45\n",
      "Vader neutrales: 0\n",
      "\n",
      "MATRIZ DE CONFUSIÓN\n"
     ]
    },
    {
     "data": {
      "image/png": "[encoded data removed]",
      "text/plain": [
       "<Figure size 432x288 with 2 Axes>"
      ]
     },
     "metadata": {
      "needs_background": "light"
     },
     "output_type": "display_data"
    },
    {
     "name": "stdout",
     "output_type": "stream",
     "text": [
      "METRICS\n",
      "              precision    recall  f1-score   support\n",
      "\n",
      "          -1       0.51      0.62      0.56        37\n",
      "           0       0.00      0.00      0.00         0\n",
      "           1       0.72      0.62      0.67        58\n",
      "\n",
      "   micro avg       0.62      0.62      0.62        95\n",
      "   macro avg       0.41      0.41      0.41        95\n",
      "weighted avg       0.64      0.62      0.63        95\n",
      "\n",
      "KAPPA\n",
      "0.23318385650224216\n"
     ]
    },
    {
     "name": "stderr",
     "output_type": "stream",
     "text": [
      "/home/porfirio/anaconda3/envs/venv/lib/python3.8/site-packages/sklearn/metrics/_classification.py:1221: UndefinedMetricWarning: Precision and F-score are ill-defined and being set to 0.0 in labels with no predicted samples. Use `zero_division` parameter to control this behavior.\n",
      "  _warn_prf(average, modifier, msg_start, len(result))\n",
      "/home/porfirio/anaconda3/envs/venv/lib/python3.8/site-packages/sklearn/metrics/_classification.py:1221: UndefinedMetricWarning: Recall and F-score are ill-defined and being set to 0.0 in labels with no true samples. Use `zero_division` parameter to control this behavior.\n",
      "  _warn_prf(average, modifier, msg_start, len(result))\n"
     ]
    }
   ],
   "source": [
    "show_classifier_results('Vader', classified_df2, 'Sentiment')"
   ]
  },
  {
   "cell_type": "code",
   "execution_count": 28,
   "id": "218e33c4",
   "metadata": {},
   "outputs": [
    {
     "name": "stdout",
     "output_type": "stream",
     "text": [
      "CLASIFICACIONES TEXTBLOB\n",
      "Textblob positivas: 32\n",
      "Textblob negativas: 63\n",
      "Textblob neutrales: 0\n",
      "\n",
      "MATRIZ DE CONFUSIÓN\n"
     ]
    },
    {
     "data": {
      "image/png": "[encoded data removed]",
      "text/plain": [
       "<Figure size 432x288 with 2 Axes>"
      ]
     },
     "metadata": {
      "needs_background": "light"
     },
     "output_type": "display_data"
    },
    {
     "name": "stdout",
     "output_type": "stream",
     "text": [
      "METRICS\n",
      "              precision    recall  f1-score   support\n",
      "\n",
      "          -1       0.38      0.65      0.48        37\n",
      "           0       0.00      0.00      0.00         0\n",
      "           1       0.59      0.33      0.42        58\n",
      "\n",
      "   micro avg       0.45      0.45      0.45        95\n",
      "   macro avg       0.32      0.33      0.30        95\n",
      "weighted avg       0.51      0.45      0.44        95\n",
      "\n",
      "KAPPA\n",
      "-0.02108309218685389\n"
     ]
    },
    {
     "name": "stderr",
     "output_type": "stream",
     "text": [
      "/home/porfirio/anaconda3/envs/venv/lib/python3.8/site-packages/sklearn/metrics/_classification.py:1221: UndefinedMetricWarning: Precision and F-score are ill-defined and being set to 0.0 in labels with no predicted samples. Use `zero_division` parameter to control this behavior.\n",
      "  _warn_prf(average, modifier, msg_start, len(result))\n",
      "/home/porfirio/anaconda3/envs/venv/lib/python3.8/site-packages/sklearn/metrics/_classification.py:1221: UndefinedMetricWarning: Recall and F-score are ill-defined and being set to 0.0 in labels with no true samples. Use `zero_division` parameter to control this behavior.\n",
      "  _warn_prf(average, modifier, msg_start, len(result))\n"
     ]
    }
   ],
   "source": [
    "show_classifier_results('Textblob', classified_df2, 'Sentiment')"
   ]
  },
  {
   "cell_type": "code",
   "execution_count": 29,
   "id": "87f5e30f",
   "metadata": {},
   "outputs": [
    {
     "name": "stdout",
     "output_type": "stream",
     "text": [
      "CLASIFICACIONES WATSON\n",
      "Watson positivas: 36\n",
      "Watson negativas: 59\n",
      "Watson neutrales: 0\n",
      "\n",
      "MATRIZ DE CONFUSIÓN\n"
     ]
    },
    {
     "data": {
      "image/png": "[encoded data removed]",
      "text/plain": [
       "<Figure size 432x288 with 2 Axes>"
      ]
     },
     "metadata": {
      "needs_background": "light"
     },
     "output_type": "display_data"
    },
    {
     "name": "stdout",
     "output_type": "stream",
     "text": [
      "METRICS\n",
      "              precision    recall  f1-score   support\n",
      "\n",
      "          -1       0.53      0.84      0.65        37\n",
      "           0       0.00      0.00      0.00         0\n",
      "           1       0.83      0.52      0.64        58\n",
      "\n",
      "   micro avg       0.64      0.64      0.64        95\n",
      "   macro avg       0.45      0.45      0.43        95\n",
      "weighted avg       0.71      0.64      0.64        95\n",
      "\n",
      "KAPPA\n",
      "0.3205721497686159\n"
     ]
    },
    {
     "name": "stderr",
     "output_type": "stream",
     "text": [
      "/home/porfirio/anaconda3/envs/venv/lib/python3.8/site-packages/sklearn/metrics/_classification.py:1221: UndefinedMetricWarning: Precision and F-score are ill-defined and being set to 0.0 in labels with no predicted samples. Use `zero_division` parameter to control this behavior.\n",
      "  _warn_prf(average, modifier, msg_start, len(result))\n",
      "/home/porfirio/anaconda3/envs/venv/lib/python3.8/site-packages/sklearn/metrics/_classification.py:1221: UndefinedMetricWarning: Recall and F-score are ill-defined and being set to 0.0 in labels with no true samples. Use `zero_division` parameter to control this behavior.\n",
      "  _warn_prf(average, modifier, msg_start, len(result))\n"
     ]
    }
   ],
   "source": [
    "show_classifier_results('Watson', classified_df2, 'Sentiment')"
   ]
  },
  {
   "cell_type": "code",
   "execution_count": 30,
   "id": "23462671",
   "metadata": {},
   "outputs": [
    {
     "name": "stdout",
     "output_type": "stream",
     "text": [
      "CLASIFICACIONES NAIVE\n",
      "Naive positivas: 32\n",
      "Naive negativas: 63\n",
      "Naive neutrales: 0\n",
      "\n",
      "MATRIZ DE CONFUSIÓN\n"
     ]
    },
    {
     "data": {
      "image/png": "[encoded data removed]",
      "text/plain": [
       "<Figure size 432x288 with 2 Axes>"
      ]
     },
     "metadata": {
      "needs_background": "light"
     },
     "output_type": "display_data"
    },
    {
     "name": "stdout",
     "output_type": "stream",
     "text": [
      "METRICS\n",
      "              precision    recall  f1-score   support\n",
      "\n",
      "          -1       0.38      0.65      0.48        37\n",
      "           0       0.00      0.00      0.00         0\n",
      "           1       0.59      0.33      0.42        58\n",
      "\n",
      "   micro avg       0.45      0.45      0.45        95\n",
      "   macro avg       0.32      0.33      0.30        95\n",
      "weighted avg       0.51      0.45      0.44        95\n",
      "\n",
      "KAPPA\n",
      "-0.02108309218685389\n"
     ]
    },
    {
     "name": "stderr",
     "output_type": "stream",
     "text": [
      "/home/porfirio/anaconda3/envs/venv/lib/python3.8/site-packages/sklearn/metrics/_classification.py:1221: UndefinedMetricWarning: Precision and F-score are ill-defined and being set to 0.0 in labels with no predicted samples. Use `zero_division` parameter to control this behavior.\n",
      "  _warn_prf(average, modifier, msg_start, len(result))\n",
      "/home/porfirio/anaconda3/envs/venv/lib/python3.8/site-packages/sklearn/metrics/_classification.py:1221: UndefinedMetricWarning: Recall and F-score are ill-defined and being set to 0.0 in labels with no true samples. Use `zero_division` parameter to control this behavior.\n",
      "  _warn_prf(average, modifier, msg_start, len(result))\n"
     ]
    }
   ],
   "source": [
    "show_classifier_results('Naive', classified_df2, 'Sentiment')"
   ]
  },
  {
   "cell_type": "code",
   "execution_count": 31,
   "id": "8e20bc42",
   "metadata": {},
   "outputs": [
    {
     "name": "stdout",
     "output_type": "stream",
     "text": [
      "CLASIFICACIONES MAXVOTING\n",
      "MaxVoting positivas: 40\n",
      "MaxVoting negativas: 55\n",
      "MaxVoting neutrales: 0\n",
      "\n",
      "MATRIZ DE CONFUSIÓN\n"
     ]
    },
    {
     "data": {
      "image/png": "[encoded data removed]",
      "text/plain": [
       "<Figure size 432x288 with 2 Axes>"
      ]
     },
     "metadata": {
      "needs_background": "light"
     },
     "output_type": "display_data"
    },
    {
     "name": "stdout",
     "output_type": "stream",
     "text": [
      "METRICS\n",
      "              precision    recall  f1-score   support\n",
      "\n",
      "          -1       0.47      0.70      0.57        37\n",
      "           0       0.00      0.00      0.00         0\n",
      "           1       0.72      0.50      0.59        58\n",
      "\n",
      "   micro avg       0.58      0.58      0.58        95\n",
      "   macro avg       0.40      0.40      0.39        95\n",
      "weighted avg       0.63      0.58      0.58        95\n",
      "\n",
      "KAPPA\n",
      "0.1862955032119915\n"
     ]
    },
    {
     "name": "stderr",
     "output_type": "stream",
     "text": [
      "/home/porfirio/anaconda3/envs/venv/lib/python3.8/site-packages/sklearn/metrics/_classification.py:1221: UndefinedMetricWarning: Precision and F-score are ill-defined and being set to 0.0 in labels with no predicted samples. Use `zero_division` parameter to control this behavior.\n",
      "  _warn_prf(average, modifier, msg_start, len(result))\n",
      "/home/porfirio/anaconda3/envs/venv/lib/python3.8/site-packages/sklearn/metrics/_classification.py:1221: UndefinedMetricWarning: Recall and F-score are ill-defined and being set to 0.0 in labels with no true samples. Use `zero_division` parameter to control this behavior.\n",
      "  _warn_prf(average, modifier, msg_start, len(result))\n"
     ]
    }
   ],
   "source": [
    "show_classifier_results('MaxVoting', classified_df2, 'Sentiment')"
   ]
  },
  {
   "cell_type": "markdown",
   "id": "a5b93ef7",
   "metadata": {},
   "source": [
    " ### Transformación con 2 polaridades (neutral a positivo)"
   ]
  },
  {
   "cell_type": "code",
   "execution_count": 32,
   "id": "08be867c",
   "metadata": {},
   "outputs": [],
   "source": [
    "classified_df2 = create_classified_dataframe(df2t, sentiment_scores, 'positive_to_neutral')\n",
    "classified_df2['Sentiment'] = classified_df2['Sentiment'].replace({0: 1})"
   ]
  },
  {
   "cell_type": "code",
   "execution_count": 33,
   "id": "beecd6f1",
   "metadata": {},
   "outputs": [
    {
     "name": "stdout",
     "output_type": "stream",
     "text": [
      "Sentiment positivas: 65\n",
      "Sentiment negativas: 30\n",
      "Sentiment neutrales: 0\n"
     ]
    }
   ],
   "source": [
    "real_sentiment = get_num_clasificaciones(classified_df2, 'Sentiment')"
   ]
  },
  {
   "cell_type": "code",
   "execution_count": 34,
   "id": "45a85f30",
   "metadata": {},
   "outputs": [
    {
     "name": "stdout",
     "output_type": "stream",
     "text": [
      "CLASIFICACIONES VADER\n",
      "Vader positivas: 76\n",
      "Vader negativas: 19\n",
      "Vader neutrales: 0\n",
      "\n",
      "MATRIZ DE CONFUSIÓN\n"
     ]
    },
    {
     "data": {
      "image/png": "[encoded data removed]",
      "text/plain": [
       "<Figure size 432x288 with 2 Axes>"
      ]
     },
     "metadata": {
      "needs_background": "light"
     },
     "output_type": "display_data"
    },
    {
     "name": "stdout",
     "output_type": "stream",
     "text": [
      "METRICS\n",
      "              precision    recall  f1-score   support\n",
      "\n",
      "          -1       0.74      0.47      0.57        30\n",
      "           0       0.00      0.00      0.00         0\n",
      "           1       0.79      0.92      0.85        65\n",
      "\n",
      "   micro avg       0.78      0.78      0.78        95\n",
      "   macro avg       0.51      0.46      0.47        95\n",
      "weighted avg       0.77      0.78      0.76        95\n",
      "\n",
      "KAPPA\n",
      "0.43243243243243246\n"
     ]
    },
    {
     "name": "stderr",
     "output_type": "stream",
     "text": [
      "/home/porfirio/anaconda3/envs/venv/lib/python3.8/site-packages/sklearn/metrics/_classification.py:1221: UndefinedMetricWarning: Precision and F-score are ill-defined and being set to 0.0 in labels with no predicted samples. Use `zero_division` parameter to control this behavior.\n",
      "  _warn_prf(average, modifier, msg_start, len(result))\n",
      "/home/porfirio/anaconda3/envs/venv/lib/python3.8/site-packages/sklearn/metrics/_classification.py:1221: UndefinedMetricWarning: Recall and F-score are ill-defined and being set to 0.0 in labels with no true samples. Use `zero_division` parameter to control this behavior.\n",
      "  _warn_prf(average, modifier, msg_start, len(result))\n"
     ]
    }
   ],
   "source": [
    "show_classifier_results('Vader', classified_df2, 'Sentiment')"
   ]
  },
  {
   "cell_type": "code",
   "execution_count": 35,
   "id": "27ff21d4",
   "metadata": {},
   "outputs": [
    {
     "name": "stdout",
     "output_type": "stream",
     "text": [
      "CLASIFICACIONES TEXTBLOB\n",
      "Textblob positivas: 81\n",
      "Textblob negativas: 14\n",
      "Textblob neutrales: 0\n",
      "\n",
      "MATRIZ DE CONFUSIÓN\n"
     ]
    },
    {
     "data": {
      "image/png": "[encoded data removed]",
      "text/plain": [
       "<Figure size 432x288 with 2 Axes>"
      ]
     },
     "metadata": {
      "needs_background": "light"
     },
     "output_type": "display_data"
    },
    {
     "name": "stdout",
     "output_type": "stream",
     "text": [
      "METRICS\n",
      "              precision    recall  f1-score   support\n",
      "\n",
      "          -1       0.36      0.17      0.23        30\n",
      "           0       0.00      0.00      0.00         0\n",
      "           1       0.69      0.86      0.77        65\n",
      "\n",
      "   micro avg       0.64      0.64      0.64        95\n",
      "   macro avg       0.35      0.34      0.33        95\n",
      "weighted avg       0.59      0.64      0.60        95\n",
      "\n",
      "KAPPA\n",
      "0.03293413173652693\n"
     ]
    },
    {
     "name": "stderr",
     "output_type": "stream",
     "text": [
      "/home/porfirio/anaconda3/envs/venv/lib/python3.8/site-packages/sklearn/metrics/_classification.py:1221: UndefinedMetricWarning: Precision and F-score are ill-defined and being set to 0.0 in labels with no predicted samples. Use `zero_division` parameter to control this behavior.\n",
      "  _warn_prf(average, modifier, msg_start, len(result))\n",
      "/home/porfirio/anaconda3/envs/venv/lib/python3.8/site-packages/sklearn/metrics/_classification.py:1221: UndefinedMetricWarning: Recall and F-score are ill-defined and being set to 0.0 in labels with no true samples. Use `zero_division` parameter to control this behavior.\n",
      "  _warn_prf(average, modifier, msg_start, len(result))\n"
     ]
    }
   ],
   "source": [
    "show_classifier_results('Textblob', classified_df2, 'Sentiment')"
   ]
  },
  {
   "cell_type": "code",
   "execution_count": 36,
   "id": "44d08ce0",
   "metadata": {},
   "outputs": [
    {
     "name": "stdout",
     "output_type": "stream",
     "text": [
      "CLASIFICACIONES WATSON\n",
      "Watson positivas: 59\n",
      "Watson negativas: 36\n",
      "Watson neutrales: 0\n",
      "\n",
      "MATRIZ DE CONFUSIÓN\n"
     ]
    },
    {
     "data": {
      "image/png": "[encoded data removed]",
      "text/plain": [
       "<Figure size 432x288 with 2 Axes>"
      ]
     },
     "metadata": {
      "needs_background": "light"
     },
     "output_type": "display_data"
    },
    {
     "name": "stdout",
     "output_type": "stream",
     "text": [
      "METRICS\n",
      "              precision    recall  f1-score   support\n",
      "\n",
      "          -1       0.67      0.80      0.73        30\n",
      "           0       0.00      0.00      0.00         0\n",
      "           1       0.90      0.82      0.85        65\n",
      "\n",
      "   micro avg       0.81      0.81      0.81        95\n",
      "   macro avg       0.52      0.54      0.53        95\n",
      "weighted avg       0.83      0.81      0.81        95\n",
      "\n",
      "KAPPA\n",
      "0.583941605839416\n"
     ]
    },
    {
     "name": "stderr",
     "output_type": "stream",
     "text": [
      "/home/porfirio/anaconda3/envs/venv/lib/python3.8/site-packages/sklearn/metrics/_classification.py:1221: UndefinedMetricWarning: Precision and F-score are ill-defined and being set to 0.0 in labels with no predicted samples. Use `zero_division` parameter to control this behavior.\n",
      "  _warn_prf(average, modifier, msg_start, len(result))\n",
      "/home/porfirio/anaconda3/envs/venv/lib/python3.8/site-packages/sklearn/metrics/_classification.py:1221: UndefinedMetricWarning: Recall and F-score are ill-defined and being set to 0.0 in labels with no true samples. Use `zero_division` parameter to control this behavior.\n",
      "  _warn_prf(average, modifier, msg_start, len(result))\n"
     ]
    }
   ],
   "source": [
    "show_classifier_results('Watson', classified_df2, 'Sentiment')"
   ]
  },
  {
   "cell_type": "code",
   "execution_count": 37,
   "id": "3d79d0ee",
   "metadata": {},
   "outputs": [
    {
     "name": "stdout",
     "output_type": "stream",
     "text": [
      "CLASIFICACIONES NAIVE\n",
      "Naive positivas: 81\n",
      "Naive negativas: 14\n",
      "Naive neutrales: 0\n",
      "\n",
      "MATRIZ DE CONFUSIÓN\n"
     ]
    },
    {
     "data": {
      "image/png": "[encoded data removed]",
      "text/plain": [
       "<Figure size 432x288 with 2 Axes>"
      ]
     },
     "metadata": {
      "needs_background": "light"
     },
     "output_type": "display_data"
    },
    {
     "name": "stdout",
     "output_type": "stream",
     "text": [
      "METRICS\n",
      "              precision    recall  f1-score   support\n",
      "\n",
      "          -1       0.36      0.17      0.23        30\n",
      "           0       0.00      0.00      0.00         0\n",
      "           1       0.69      0.86      0.77        65\n",
      "\n",
      "   micro avg       0.64      0.64      0.64        95\n",
      "   macro avg       0.35      0.34      0.33        95\n",
      "weighted avg       0.59      0.64      0.60        95\n",
      "\n",
      "KAPPA\n",
      "0.03293413173652693\n"
     ]
    },
    {
     "name": "stderr",
     "output_type": "stream",
     "text": [
      "/home/porfirio/anaconda3/envs/venv/lib/python3.8/site-packages/sklearn/metrics/_classification.py:1221: UndefinedMetricWarning: Precision and F-score are ill-defined and being set to 0.0 in labels with no predicted samples. Use `zero_division` parameter to control this behavior.\n",
      "  _warn_prf(average, modifier, msg_start, len(result))\n",
      "/home/porfirio/anaconda3/envs/venv/lib/python3.8/site-packages/sklearn/metrics/_classification.py:1221: UndefinedMetricWarning: Recall and F-score are ill-defined and being set to 0.0 in labels with no true samples. Use `zero_division` parameter to control this behavior.\n",
      "  _warn_prf(average, modifier, msg_start, len(result))\n"
     ]
    }
   ],
   "source": [
    "show_classifier_results('Naive', classified_df2, 'Sentiment')"
   ]
  },
  {
   "cell_type": "code",
   "execution_count": 38,
   "id": "50b774e2",
   "metadata": {},
   "outputs": [
    {
     "name": "stdout",
     "output_type": "stream",
     "text": [
      "CLASIFICACIONES MAXVOTING\n",
      "MaxVoting positivas: 78\n",
      "MaxVoting negativas: 17\n",
      "MaxVoting neutrales: 0\n",
      "\n",
      "MATRIZ DE CONFUSIÓN\n"
     ]
    },
    {
     "data": {
      "image/png": "[encoded data removed]",
      "text/plain": [
       "<Figure size 432x288 with 2 Axes>"
      ]
     },
     "metadata": {
      "needs_background": "light"
     },
     "output_type": "display_data"
    },
    {
     "name": "stdout",
     "output_type": "stream",
     "text": [
      "METRICS\n",
      "              precision    recall  f1-score   support\n",
      "\n",
      "          -1       0.71      0.40      0.51        30\n",
      "           0       0.00      0.00      0.00         0\n",
      "           1       0.77      0.92      0.84        65\n",
      "\n",
      "   micro avg       0.76      0.76      0.76        95\n",
      "   macro avg       0.49      0.44      0.45        95\n",
      "weighted avg       0.75      0.76      0.74        95\n",
      "\n",
      "KAPPA\n",
      "0.3657474600870827\n"
     ]
    },
    {
     "name": "stderr",
     "output_type": "stream",
     "text": [
      "/home/porfirio/anaconda3/envs/venv/lib/python3.8/site-packages/sklearn/metrics/_classification.py:1221: UndefinedMetricWarning: Precision and F-score are ill-defined and being set to 0.0 in labels with no predicted samples. Use `zero_division` parameter to control this behavior.\n",
      "  _warn_prf(average, modifier, msg_start, len(result))\n",
      "/home/porfirio/anaconda3/envs/venv/lib/python3.8/site-packages/sklearn/metrics/_classification.py:1221: UndefinedMetricWarning: Recall and F-score are ill-defined and being set to 0.0 in labels with no true samples. Use `zero_division` parameter to control this behavior.\n",
      "  _warn_prf(average, modifier, msg_start, len(result))\n"
     ]
    }
   ],
   "source": [
    "show_classifier_results('MaxVoting', classified_df2, 'Sentiment')"
   ]
  }
 ],
 "metadata": {
  "kernelspec": {
   "display_name": "Python 3",
   "language": "python",
   "name": "python3"
  },
  "language_info": {
   "codemirror_mode": {
    "name": "ipython",
    "version": 3
   },
   "file_extension": ".py",
   "mimetype": "text/x-python",
   "name": "python",
   "nbconvert_exporter": "python",
   "pygments_lexer": "ipython3",
   "version": "3.7.10"
  },
  "toc": {
   "base_numbering": 1,
   "nav_menu": {},
   "number_sections": true,
   "sideBar": true,
   "skip_h1_title": false,
   "title_cell": "Table of Contents",
   "title_sidebar": "Contents",
   "toc_cell": false,
   "toc_position": {},
   "toc_section_display": true,
   "toc_window_display": false
  }
 },
 "nbformat": 4,
 "nbformat_minor": 5
}
